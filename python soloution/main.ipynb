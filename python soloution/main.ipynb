{
 "cells": [
  {
   "cell_type": "markdown",
   "metadata": {},
   "source": [
    "# clustering\n",
    "this project will be finding k optimal center points for a given data set and effectively divide the data set into clusters\n",
    "## use-cases \n",
    "- labeling data under specific names\n",
    "- give images a mosaic effect\n",
    "- much more "
   ]
  },
  {
   "cell_type": "markdown",
   "metadata": {},
   "source": [
    "## import "
   ]
  },
  {
   "cell_type": "code",
   "execution_count": 203,
   "metadata": {},
   "outputs": [
    {
     "name": "stdout",
     "output_type": "stream",
     "text": [
      "imports done successfully\n"
     ]
    }
   ],
   "source": [
    "import numpy as np\n",
    "import pandas as pd\n",
    "import matplotlib as plt\n",
    "import random\n",
    "import json\n",
    "from json import JSONEncoder\n",
    "\n",
    "print('imports done successfully')"
   ]
  },
  {
   "cell_type": "markdown",
   "metadata": {},
   "source": [
    "# the point class"
   ]
  },
  {
   "cell_type": "code",
   "execution_count": 204,
   "metadata": {},
   "outputs": [],
   "source": [
    "from typing_extensions import Self\n",
    "\n",
    "\n",
    "class point:\n",
    "\n",
    "    def __init__(self, position: tuple) -> None:\n",
    "        self.__position = position\n",
    "        self.dimension = len(position)\n",
    "\n",
    "    @property\n",
    "    def position(self) -> tuple:\n",
    "        return self.__position\n",
    "\n",
    "    def __repr__(self) -> str:\n",
    "        return f'{__class__.__name__}{self.position}'\n",
    "\n",
    "    @position.setter\n",
    "    def position(self, new_position: tuple) -> None:\n",
    "        assert len(\n",
    "            new_position) == self.dimension, f\"new position must have same dimension as old position, old dimension {self.dimension}\"\n",
    "        new_position = [int(i) for i in new_position]\n",
    "        print(f'position changed from {self.__position} to {new_position}')\n",
    "        self.__position = new_position\n",
    "\n",
    "    def distance_squared(self, other: Self) -> float:\n",
    "        assert self.dimension == other.dimension, \"points of different dimensions\"\n",
    "        return sum([(i - j)**2 for i, j in (zip(self.position, other.position))])\n",
    "    \n"
   ]
  },
  {
   "cell_type": "code",
   "execution_count": 188,
   "metadata": {},
   "outputs": [
    {
     "name": "stdout",
     "output_type": "stream",
     "text": [
      "point(1, 2, 3, 4)\n",
      "position changed from (1, 2, 3, 4) to [1, 1, 1, 1]\n",
      "point[1, 1, 1, 1]\n",
      "point(1, 5, 2, 3)\n"
     ]
    },
    {
     "data": {
      "text/plain": [
       "21"
      ]
     },
     "execution_count": 188,
     "metadata": {},
     "output_type": "execute_result"
    }
   ],
   "source": [
    "# testing block\n",
    "\n",
    "point1 = point((1,2,3,4))\n",
    "print(point1)\n",
    "my_tuple = 1,1,1,1.2323\n",
    "point1.position = my_tuple\n",
    "print(point1)\n",
    "point2 = point((1,5,2,3))\n",
    "print(point2)\n",
    "point1.distance_squared(point2)"
   ]
  },
  {
   "cell_type": "code",
   "execution_count": 237,
   "metadata": {},
   "outputs": [
    {
     "name": "stdout",
     "output_type": "stream",
     "text": [
      "          r    g    b\n",
      "0       254  254  254\n",
      "1       254  254  254\n",
      "2       254  254  254\n",
      "3       254  254  254\n",
      "4       254  254  254\n",
      "...     ...  ...  ...\n",
      "758275   91   92  156\n",
      "758276   90   92  155\n",
      "758277   90   93  154\n",
      "758278   89   93  152\n",
      "758279   88   92  148\n",
      "\n",
      "[758280 rows x 3 columns]\n",
      "          r    g    b\n",
      "0       254  254  254\n",
      "1       254  254  254\n",
      "2       254  254  254\n",
      "3       254  254  254\n",
      "4       254  254  254\n",
      "...     ...  ...  ...\n",
      "758275   91   92  156\n",
      "758276   90   92  155\n",
      "758277   90   93  154\n",
      "758278   89   93  152\n",
      "758279   88   92  148\n",
      "\n",
      "[758280 rows x 3 columns]\n"
     ]
    }
   ],
   "source": [
    "# read data from file\n",
    "path = 'asuka.csv'\n",
    "pandas_csv = pd.read_csv(path)\n",
    "pandas_data = pandas_csv.iloc[:, 0: 3].copy()\n",
    "reds, greens, blues = pandas_data.get(\n",
    "    'r'), pandas_data.get('g'), pandas_data.get('b')\n",
    "pandas_data.head()  # check\n",
    "print(pandas_data)\n",
    "print(pandas_csv)"
   ]
  },
  {
   "cell_type": "markdown",
   "metadata": {},
   "source": [
    "making an array of points from cvs data"
   ]
  },
  {
   "cell_type": "code",
   "execution_count": 206,
   "metadata": {},
   "outputs": [
    {
     "name": "stdout",
     "output_type": "stream",
     "text": [
      "{point(23, 72, 244): [], point(152, 49, 2): [], point(69, 123, 114): [], point(115, 199, 124): [], point(3, 99, 70): [], point(20, 73, 16): [], point(251, 75, 4): [], point(42, 50, 45): [], point(177, 41, 151): [], point(229, 99, 164): []}\n"
     ]
    }
   ],
   "source": [
    "centers = list()\n",
    "k = 3\n",
    "dimension = len(pandas_data.columns)\n",
    "for _ in range(k):\n",
    "    cords = []\n",
    "    for _2 in range(dimension):\n",
    "        cords.append(random.randint(0, 255))\n",
    "    centers.append(point(tuple(cords)))\n",
    "center_children = {i:[] for i in centers}\n",
    "print(center_children)"
   ]
  },
  {
   "cell_type": "code",
   "execution_count": 207,
   "metadata": {},
   "outputs": [],
   "source": [
    "def winner_parent(centers: list, point: point) -> point:\n",
    "    min: float = -1\n",
    "    winner = None\n",
    "    for center in centers:\n",
    "        distance = point.distance_squared(center)\n",
    "        if min == -1 or min > distance:\n",
    "            min = distance\n",
    "            winner = center\n",
    "    return winner\n"
   ]
  },
  {
   "cell_type": "code",
   "execution_count": 208,
   "metadata": {},
   "outputs": [],
   "source": [
    "points = []\n",
    "for rgb in pandas_data.values:\n",
    "    lst = []\n",
    "    for i in range(dimension):\n",
    "        lst.append(rgb[i])\n",
    "    points.append(point(tuple(lst)))"
   ]
  },
  {
   "cell_type": "code",
   "execution_count": 209,
   "metadata": {},
   "outputs": [],
   "source": [
    "for _point in points:\n",
    "    center_children[winner_parent(centers,_point)].append(_point.position)"
   ]
  },
  {
   "cell_type": "code",
   "execution_count": 219,
   "metadata": {},
   "outputs": [
    {
     "name": "stdout",
     "output_type": "stream",
     "text": [
      "position changed from [145, 67, 43] to [145, 67, 43]\n",
      "position changed from [88, 97, 140] to [88, 97, 140]\n",
      "position changed from [152, 182, 190] to [152, 182, 190]\n",
      "position changed from [41, 68, 102] to [41, 68, 102]\n",
      "position changed from [193, 110, 70] to [193, 110, 70]\n",
      "position changed from [65, 43, 54] to [65, 43, 54]\n",
      "position changed from [157, 104, 104] to [157, 104, 104]\n",
      "position changed from [241, 240, 243] to [241, 240, 243]\n"
     ]
    }
   ],
   "source": [
    "for center in center_children:\n",
    "    if len(center_children[center]) == 0:\n",
    "        continue\n",
    "    a = np.average(center_children[center] , axis=0)\n",
    "    center.position = a"
   ]
  },
  {
   "cell_type": "code",
   "execution_count": 220,
   "metadata": {},
   "outputs": [
    {
     "name": "stderr",
     "output_type": "stream",
     "text": [
      "c:\\Users\\hp\\AppData\\Local\\Programs\\Python\\Python39\\lib\\site-packages\\numpy\\lib\\function_base.py:380: RuntimeWarning: Mean of empty slice.\n",
      "  avg = a.mean(axis)\n",
      "c:\\Users\\hp\\AppData\\Local\\Programs\\Python\\Python39\\lib\\site-packages\\numpy\\core\\_methods.py:189: RuntimeWarning: invalid value encountered in double_scalars\n",
      "  ret = ret.dtype.type(ret / rcount)\n"
     ]
    },
    {
     "ename": "TypeError",
     "evalue": "'numpy.float64' object is not iterable",
     "output_type": "error",
     "traceback": [
      "\u001b[1;31m---------------------------------------------------------------------------\u001b[0m",
      "\u001b[1;31mTypeError\u001b[0m                                 Traceback (most recent call last)",
      "\u001b[1;32m~\\AppData\\Local\\Temp/ipykernel_23948/254783698.py\u001b[0m in \u001b[0;36m<module>\u001b[1;34m\u001b[0m\n\u001b[0;32m      3\u001b[0m \u001b[1;32mfor\u001b[0m \u001b[0mcenter\u001b[0m \u001b[1;32min\u001b[0m \u001b[0mcenter_children\u001b[0m\u001b[1;33m:\u001b[0m\u001b[1;33m\u001b[0m\u001b[1;33m\u001b[0m\u001b[0m\n\u001b[0;32m      4\u001b[0m     \u001b[0ma\u001b[0m \u001b[1;33m=\u001b[0m \u001b[0mnp\u001b[0m\u001b[1;33m.\u001b[0m\u001b[0maverage\u001b[0m\u001b[1;33m(\u001b[0m\u001b[0mcenter_children\u001b[0m\u001b[1;33m[\u001b[0m\u001b[0mcenter\u001b[0m\u001b[1;33m]\u001b[0m\u001b[1;33m,\u001b[0m\u001b[0maxis\u001b[0m\u001b[1;33m=\u001b[0m\u001b[1;36m0\u001b[0m\u001b[1;33m)\u001b[0m\u001b[1;33m\u001b[0m\u001b[1;33m\u001b[0m\u001b[0m\n\u001b[1;32m----> 5\u001b[1;33m     \u001b[0mcenter\u001b[0m\u001b[1;33m.\u001b[0m\u001b[0mposition\u001b[0m \u001b[1;33m=\u001b[0m \u001b[0mtuple\u001b[0m\u001b[1;33m(\u001b[0m\u001b[0ma\u001b[0m\u001b[1;33m)\u001b[0m\u001b[1;33m\u001b[0m\u001b[1;33m\u001b[0m\u001b[0m\n\u001b[0m",
      "\u001b[1;31mTypeError\u001b[0m: 'numpy.float64' object is not iterable"
     ]
    }
   ],
   "source": [
    "for _point in points:\n",
    "    center_children[winner_parent(centers,_point)].append(_point.position)\n",
    "for center in center_children:\n",
    "    if len(center_children[center]) == 0:\n",
    "        continue\n",
    "    a = np.average(center_children[center] , axis=0)\n",
    "    center.position = a"
   ]
  },
  {
   "cell_type": "markdown",
   "metadata": {},
   "source": [
    "# write to json"
   ]
  },
  {
   "cell_type": "code",
   "execution_count": 238,
   "metadata": {},
   "outputs": [
    {
     "ename": "SyntaxError",
     "evalue": "invalid syntax (Temp/ipykernel_23948/3099608283.py, line 4)",
     "output_type": "error",
     "traceback": [
      "\u001b[1;36m  File \u001b[1;32m\"C:\\Users\\hp\\AppData\\Local\\Temp/ipykernel_23948/3099608283.py\"\u001b[1;36m, line \u001b[1;32m4\u001b[0m\n\u001b[1;33m    return {\"coordinates\": o.position, \"dimension\": o.dimension , , o.__class__.__name__: True}\u001b[0m\n\u001b[1;37m                                                                  ^\u001b[0m\n\u001b[1;31mSyntaxError\u001b[0m\u001b[1;31m:\u001b[0m invalid syntax\n"
     ]
    }
   ],
   "source": [
    "class PointEncoder(JSONEncoder):\n",
    "    def default(self, o):\n",
    "        if isinstance(o, point):\n",
    "            return {\"coordinates\": o.position, \"dimension\": o.dimension, o.__class__.__name__: True}\n",
    "        return JSONEncoder.default\n"
   ]
  },
  {
   "cell_type": "code",
   "execution_count": 222,
   "metadata": {},
   "outputs": [],
   "source": [
    "with open(\"centers.json\", 'w') as f:\n",
    "        json.dump(centers, f, cls=PointEncoder, indent=4)"
   ]
  }
 ],
 "metadata": {
  "kernelspec": {
   "display_name": "Python 3.9.7 64-bit",
   "language": "python",
   "name": "python3"
  },
  "language_info": {
   "codemirror_mode": {
    "name": "ipython",
    "version": 3
   },
   "file_extension": ".py",
   "mimetype": "text/x-python",
   "name": "python",
   "nbconvert_exporter": "python",
   "pygments_lexer": "ipython3",
   "version": "3.9.7"
  },
  "orig_nbformat": 4,
  "vscode": {
   "interpreter": {
    "hash": "b671c20432fcd147198c92e7f072af9e705f087eb990bee22b07f08caab9f630"
   }
  }
 },
 "nbformat": 4,
 "nbformat_minor": 2
}
