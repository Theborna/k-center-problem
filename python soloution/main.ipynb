{
 "cells": [
  {
   "cell_type": "markdown",
   "metadata": {},
   "source": [
    "# clustering\n",
    "this project will be finding k optimal center points for a given data set and effectively divide the data set into clusters\n",
    "## use-cases \n",
    "- labeling data under specific names\n",
    "- give images a mosaic effect\n",
    "- much more "
   ]
  },
  {
   "cell_type": "markdown",
   "metadata": {},
   "source": [
    "## import "
   ]
  },
  {
   "cell_type": "code",
   "execution_count": 2,
   "metadata": {},
   "outputs": [
    {
     "name": "stdout",
     "output_type": "stream",
     "text": [
      "imports done successfully\n"
     ]
    }
   ],
   "source": [
    "import numpy as np\n",
    "import pandas as pd\n",
    "import matplotlib as plt\n",
    "\n",
    "print('imports done successfully')"
   ]
  },
  {
   "cell_type": "markdown",
   "metadata": {},
   "source": [
    "# the point class"
   ]
  },
  {
   "cell_type": "code",
   "execution_count": 40,
   "metadata": {},
   "outputs": [],
   "source": [
    "class point:\n",
    "\n",
    "    def __init__(self, *position: tuple) -> None:\n",
    "        self.__position = position\n",
    "        self.dimension = len(position)\n",
    "\n",
    "    @property\n",
    "    def position(self) -> tuple:\n",
    "        return self.__position\n",
    "\n",
    "    def __repr__(self) -> str:\n",
    "        return f'{__class__.__name__}{self.position}'\n",
    "\n",
    "    @position.setter\n",
    "    def position(self, new_position: tuple) -> None:\n",
    "        assert len(\n",
    "            new_position) == self.dimension, f\"new position must have same dimension as old position, old dimension {self.dimension}\"\n",
    "        print(f'position changed from {self.__position} to {new_position}')\n",
    "        self.__position = new_position\n"
   ]
  },
  {
   "cell_type": "code",
   "execution_count": 39,
   "metadata": {},
   "outputs": [
    {
     "name": "stdout",
     "output_type": "stream",
     "text": [
      "point(1, 2, 3, 4)\n",
      "position changed from (1, 2, 3, 4) to (1, 1, 1, 1)\n"
     ]
    }
   ],
   "source": [
    "# testing block\n",
    "\n",
    "point1 = point(1,2,3,4)\n",
    "print(point1)\n",
    "my_tuple = 1,1,1,1\n",
    "point1.position = my_tuple\n",
    "# print(point1)"
   ]
  },
  {
   "cell_type": "markdown",
   "metadata": {},
   "source": [
    "making an array of points from cvs data"
   ]
  },
  {
   "cell_type": "code",
   "execution_count": null,
   "metadata": {},
   "outputs": [],
   "source": [
    "points = []\n"
   ]
  }
 ],
 "metadata": {
  "kernelspec": {
   "display_name": "Python 3.9.7 64-bit",
   "language": "python",
   "name": "python3"
  },
  "language_info": {
   "codemirror_mode": {
    "name": "ipython",
    "version": 3
   },
   "file_extension": ".py",
   "mimetype": "text/x-python",
   "name": "python",
   "nbconvert_exporter": "python",
   "pygments_lexer": "ipython3",
   "version": "3.9.7"
  },
  "orig_nbformat": 4,
  "vscode": {
   "interpreter": {
    "hash": "b671c20432fcd147198c92e7f072af9e705f087eb990bee22b07f08caab9f630"
   }
  }
 },
 "nbformat": 4,
 "nbformat_minor": 2
}
